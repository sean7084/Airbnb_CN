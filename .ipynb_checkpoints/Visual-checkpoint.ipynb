{
 "cells": [
  {
   "cell_type": "markdown",
   "id": "60eeb4d0",
   "metadata": {},
   "source": [
    "数据来源：http://insideairbnb.com/get-the-data/ #北京\n",
    "截取日期：June 21, 2022"
   ]
  },
  {
   "cell_type": "code",
   "execution_count": 4,
   "id": "f7aeca17",
   "metadata": {
    "scrolled": true
   },
   "outputs": [],
   "source": [
    "import pandas as pd\n",
    "import numpy as np\n",
    "from pandas_profiling import ProfileReport\n",
    "import matplotlib.pyplot as plt"
   ]
  },
  {
   "cell_type": "code",
   "execution_count": null,
   "id": "681d7a3f",
   "metadata": {},
   "outputs": [],
   "source": [
    "review = pd.read_csv(r'C:\\Users\\sean_\\Documents\\Code\\Airbnb_Beijing\\reviews.csv')\n",
    "\n",
    "review_df = pd.DataFrame(review)\n",
    "print(review_df.head)\n",
    "\n",
    "#reviews_profilereport = ProfileReport(review_df, title = 'reviews_profilereport')\n",
    "#reviews_profilereport.to_file(\"reviews_profilereport.html\")\n",
    "\n",
    "review_df['date'] = review_df['date'].astype('datetime64')\n",
    "review_df['date'].head\n",
    "type(review_df['date'])\n",
    "\n",
    "review_df[\"date\"].count().plot(kind=\"hist\")"
   ]
  },
  {
   "cell_type": "code",
   "execution_count": null,
   "id": "2e192acb",
   "metadata": {},
   "outputs": [],
   "source": []
  },
  {
   "cell_type": "code",
   "execution_count": null,
   "id": "9c380548",
   "metadata": {},
   "outputs": [],
   "source": []
  }
 ],
 "metadata": {
  "kernelspec": {
   "display_name": "Python 3 (ipykernel)",
   "language": "python",
   "name": "python3"
  },
  "language_info": {
   "codemirror_mode": {
    "name": "ipython",
    "version": 3
   },
   "file_extension": ".py",
   "mimetype": "text/x-python",
   "name": "python",
   "nbconvert_exporter": "python",
   "pygments_lexer": "ipython3",
   "version": "3.9.13"
  }
 },
 "nbformat": 4,
 "nbformat_minor": 5
}
